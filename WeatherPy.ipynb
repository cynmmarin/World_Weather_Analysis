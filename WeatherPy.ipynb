{
 "cells": [
  {
   "cell_type": "markdown",
   "metadata": {},
   "source": [
    "## Create Latitude and Longitude Combinations"
   ]
  },
  {
   "cell_type": "code",
   "execution_count": 1,
   "metadata": {},
   "outputs": [],
   "source": [
    "# Import the dependencies.\n",
    "import pandas as pd\n",
    "import matplotlib.pyplot as plt\n",
    "import numpy as np"
   ]
  },
  {
   "cell_type": "code",
   "execution_count": 2,
   "metadata": {},
   "outputs": [
    {
     "data": {
      "text/plain": [
       "<zip at 0x7fd5c1055980>"
      ]
     },
     "execution_count": 2,
     "metadata": {},
     "output_type": "execute_result"
    }
   ],
   "source": [
    "# Create a set of random latitude and longitude combinations.\n",
    "lats = np.random.uniform(low=-90.000, high=90.000, size=1500)\n",
    "lngs = np.random.uniform(low=-180.000, high=180.000, size=1500)\n",
    "lat_lngs = zip(lats, lngs)\n",
    "lat_lngs"
   ]
  },
  {
   "cell_type": "code",
   "execution_count": 3,
   "metadata": {},
   "outputs": [],
   "source": [
    "# Add the latitudes and longitudes to a list.\n",
    "coordinates = list(lat_lngs)"
   ]
  },
  {
   "cell_type": "markdown",
   "metadata": {},
   "source": [
    "## Generate Random World Cities"
   ]
  },
  {
   "cell_type": "code",
   "execution_count": 4,
   "metadata": {},
   "outputs": [],
   "source": [
    "# Use the citipy module to determine city based on latitude and longitude.\n",
    "from citipy import citipy"
   ]
  },
  {
   "cell_type": "code",
   "execution_count": 5,
   "metadata": {},
   "outputs": [
    {
     "data": {
      "text/plain": [
       "601"
      ]
     },
     "execution_count": 5,
     "metadata": {},
     "output_type": "execute_result"
    }
   ],
   "source": [
    "# Create a list for holding the cities.\n",
    "cities = []\n",
    "# Identify the nearest city for each latitude and longitude combination.\n",
    "for coordinate in coordinates:\n",
    "    city = citipy.nearest_city(coordinate[0], coordinate[1]).city_name\n",
    "\n",
    "    # If the city is unique, then we will add it to the cities list.\n",
    "    if city not in cities:\n",
    "        cities.append(city)\n",
    "# Print the city count to confirm sufficient count.\n",
    "len(cities)"
   ]
  },
  {
   "cell_type": "markdown",
   "metadata": {},
   "source": [
    "## Get the City Weather Data"
   ]
  },
  {
   "cell_type": "markdown",
   "metadata": {},
   "source": [
    "### Import Dependencies, and Initialize an Empty List and Counters"
   ]
  },
  {
   "cell_type": "code",
   "execution_count": 6,
   "metadata": {},
   "outputs": [],
   "source": [
    "# Import the requests library.\n",
    "import requests\n",
    "\n",
    "## Import the datetime module from the datetime library.\n",
    "from datetime import datetime\n",
    "\n",
    "# Import the API key.\n",
    "from config import weather_api_key"
   ]
  },
  {
   "cell_type": "code",
   "execution_count": 7,
   "metadata": {},
   "outputs": [
    {
     "name": "stdout",
     "output_type": "stream",
     "text": [
      "http://api.openweathermap.org/data/2.5/weather?units=Imperial&APPID=8d3fe34a1634f05652b89a64616ae194\n"
     ]
    }
   ],
   "source": [
    "# Starting URL for Weather Map API Call.\n",
    "url = \"http://api.openweathermap.org/data/2.5/weather?units=Imperial&APPID=\" + weather_api_key\n",
    "print(url)"
   ]
  },
  {
   "cell_type": "code",
   "execution_count": 8,
   "metadata": {},
   "outputs": [
    {
     "name": "stdout",
     "output_type": "stream",
     "text": [
      "Beginning Data Retrieval     \n",
      "-----------------------------\n"
     ]
    }
   ],
   "source": [
    "# Create an empty list to hold the weather data.\n",
    "city_data = []\n",
    "# Print the beginning of the logging.\n",
    "print(\"Beginning Data Retrieval     \")\n",
    "print(\"-----------------------------\")\n",
    "\n",
    "# Create counters.\n",
    "record_count = 1\n",
    "set_count = 1"
   ]
  },
  {
   "cell_type": "markdown",
   "metadata": {},
   "source": [
    "### Loop Through the List of Cities and Build the City URL"
   ]
  },
  {
   "cell_type": "code",
   "execution_count": 9,
   "metadata": {},
   "outputs": [
    {
     "name": "stdout",
     "output_type": "stream",
     "text": [
      "Processing Record 1 of Set 1 | auki\n",
      "Processing Record 2 of Set 1 | hermanus\n",
      "Processing Record 3 of Set 1 | hithadhoo\n",
      "Processing Record 4 of Set 1 | lazaro cardenas\n",
      "Processing Record 5 of Set 1 | jamestown\n",
      "Processing Record 6 of Set 1 | talcahuano\n",
      "Processing Record 7 of Set 1 | hobart\n",
      "Processing Record 8 of Set 1 | puerto ayora\n",
      "Processing Record 9 of Set 1 | chuy\n",
      "Processing Record 10 of Set 1 | mataura\n",
      "Processing Record 11 of Set 1 | makakilo city\n",
      "Processing Record 12 of Set 1 | rio gallegos\n",
      "Processing Record 13 of Set 1 | barranca\n",
      "Processing Record 14 of Set 1 | velingara\n",
      "Processing Record 15 of Set 1 | busselton\n",
      "Processing Record 16 of Set 1 | bluff\n",
      "Processing Record 17 of Set 1 | arraial do cabo\n",
      "Processing Record 18 of Set 1 | hamilton\n",
      "Processing Record 19 of Set 1 | melilla\n",
      "Processing Record 20 of Set 1 | atuona\n",
      "Processing Record 21 of Set 1 | ayagoz\n",
      "Processing Record 22 of Set 1 | vanderhoof\n",
      "Processing Record 23 of Set 1 | hilo\n",
      "Processing Record 24 of Set 1 | sayyan\n",
      "Processing Record 25 of Set 1 | ribeira grande\n",
      "Processing Record 26 of Set 1 | torbay\n",
      "Processing Record 27 of Set 1 | albany\n",
      "Processing Record 28 of Set 1 | rikitea\n",
      "Processing Record 29 of Set 1 | bredasdorp\n",
      "Processing Record 30 of Set 1 | touros\n",
      "Processing Record 31 of Set 1 | beringovskiy\n",
      "Processing Record 32 of Set 1 | cabo san lucas\n",
      "Processing Record 33 of Set 1 | novopskov\n",
      "Processing Record 34 of Set 1 | roald\n",
      "Processing Record 35 of Set 1 | hakui\n",
      "Processing Record 36 of Set 1 | mys shmidta\n",
      "City not found. Skipping...\n",
      "Processing Record 37 of Set 1 | padang\n",
      "Processing Record 38 of Set 1 | doha\n",
      "Processing Record 39 of Set 1 | saint-francois\n",
      "Processing Record 40 of Set 1 | barrow\n",
      "Processing Record 41 of Set 1 | kulunda\n",
      "Processing Record 42 of Set 1 | paamiut\n",
      "Processing Record 43 of Set 1 | castro\n",
      "Processing Record 44 of Set 1 | saint-augustin\n",
      "Processing Record 45 of Set 1 | vaitupu\n",
      "City not found. Skipping...\n",
      "Processing Record 46 of Set 1 | utiroa\n",
      "City not found. Skipping...\n",
      "Processing Record 47 of Set 1 | riyadh\n",
      "Processing Record 48 of Set 1 | saint-louis\n",
      "Processing Record 49 of Set 1 | asasa\n",
      "Processing Record 50 of Set 1 | oranjemund\n",
      "Processing Record 1 of Set 2 | kapaa\n",
      "Processing Record 2 of Set 2 | mar del plata\n",
      "Processing Record 3 of Set 2 | illoqqortoormiut\n",
      "City not found. Skipping...\n",
      "Processing Record 4 of Set 2 | sitka\n",
      "Processing Record 5 of Set 2 | butaritari\n",
      "Processing Record 6 of Set 2 | kruisfontein\n",
      "Processing Record 7 of Set 2 | hofn\n",
      "Processing Record 8 of Set 2 | ushuaia\n",
      "Processing Record 9 of Set 2 | qaanaaq\n",
      "Processing Record 10 of Set 2 | la ronge\n",
      "Processing Record 11 of Set 2 | norman wells\n",
      "Processing Record 12 of Set 2 | san cristobal\n",
      "Processing Record 13 of Set 2 | vaini\n",
      "Processing Record 14 of Set 2 | adrar\n",
      "Processing Record 15 of Set 2 | lagoa\n",
      "Processing Record 16 of Set 2 | nikolskoye\n",
      "Processing Record 17 of Set 2 | port lincoln\n",
      "Processing Record 18 of Set 2 | fare\n",
      "Processing Record 19 of Set 2 | cuamba\n",
      "Processing Record 20 of Set 2 | katsuura\n",
      "Processing Record 21 of Set 2 | gamba\n",
      "Processing Record 22 of Set 2 | klamath falls\n",
      "Processing Record 23 of Set 2 | tiksi\n",
      "Processing Record 24 of Set 2 | porbandar\n",
      "Processing Record 25 of Set 2 | dikson\n",
      "Processing Record 26 of Set 2 | grand river south east\n",
      "City not found. Skipping...\n",
      "Processing Record 27 of Set 2 | ahuimanu\n",
      "Processing Record 28 of Set 2 | kaitangata\n",
      "Processing Record 29 of Set 2 | port-cartier\n",
      "Processing Record 30 of Set 2 | yellowknife\n",
      "Processing Record 31 of Set 2 | pangnirtung\n",
      "Processing Record 32 of Set 2 | hasaki\n",
      "Processing Record 33 of Set 2 | tongchuan\n",
      "Processing Record 34 of Set 2 | port alfred\n",
      "Processing Record 35 of Set 2 | iskateley\n",
      "Processing Record 36 of Set 2 | taolanaro\n",
      "City not found. Skipping...\n",
      "Processing Record 37 of Set 2 | new norfolk\n",
      "Processing Record 38 of Set 2 | coquimbo\n",
      "Processing Record 39 of Set 2 | cape town\n",
      "Processing Record 40 of Set 2 | nishihara\n",
      "Processing Record 41 of Set 2 | belushya guba\n",
      "City not found. Skipping...\n",
      "Processing Record 42 of Set 2 | whittlesea\n",
      "Processing Record 43 of Set 2 | coahuayana\n",
      "Processing Record 44 of Set 2 | mombetsu\n",
      "Processing Record 45 of Set 2 | sangin\n",
      "Processing Record 46 of Set 2 | saleaula\n",
      "City not found. Skipping...\n",
      "Processing Record 47 of Set 2 | saint-philippe\n",
      "Processing Record 48 of Set 2 | boston\n",
      "Processing Record 49 of Set 2 | yomitan\n",
      "City not found. Skipping...\n",
      "Processing Record 50 of Set 2 | strezhevoy\n",
      "Processing Record 1 of Set 3 | fortuna\n",
      "Processing Record 2 of Set 3 | okandja\n",
      "City not found. Skipping...\n",
      "Processing Record 3 of Set 3 | te anau\n",
      "Processing Record 4 of Set 3 | rochegda\n",
      "Processing Record 5 of Set 3 | ubinskoye\n",
      "Processing Record 6 of Set 3 | mahebourg\n",
      "Processing Record 7 of Set 3 | avarua\n",
      "Processing Record 8 of Set 3 | portland\n",
      "Processing Record 9 of Set 3 | necochea\n",
      "Processing Record 10 of Set 3 | areia branca\n",
      "Processing Record 11 of Set 3 | tuktoyaktuk\n",
      "Processing Record 12 of Set 3 | najran\n",
      "Processing Record 13 of Set 3 | kirkuk\n",
      "Processing Record 14 of Set 3 | tabuk\n",
      "Processing Record 15 of Set 3 | port hardy\n",
      "Processing Record 16 of Set 3 | fairbanks\n",
      "Processing Record 17 of Set 3 | isiro\n",
      "Processing Record 18 of Set 3 | attawapiskat\n",
      "City not found. Skipping...\n",
      "Processing Record 19 of Set 3 | kuytun\n",
      "Processing Record 20 of Set 3 | cefalu\n",
      "Processing Record 21 of Set 3 | lebu\n",
      "Processing Record 22 of Set 3 | sayhat\n",
      "Processing Record 23 of Set 3 | asopos\n",
      "Processing Record 24 of Set 3 | hihifo\n",
      "City not found. Skipping...\n",
      "Processing Record 25 of Set 3 | longlac\n",
      "City not found. Skipping...\n",
      "Processing Record 26 of Set 3 | dosso\n",
      "Processing Record 27 of Set 3 | payo\n",
      "Processing Record 28 of Set 3 | my tho\n",
      "Processing Record 29 of Set 3 | danville\n",
      "Processing Record 30 of Set 3 | kieta\n",
      "Processing Record 31 of Set 3 | sargatskoye\n",
      "Processing Record 32 of Set 3 | kichera\n",
      "Processing Record 33 of Set 3 | whyalla\n",
      "Processing Record 34 of Set 3 | banjar\n",
      "Processing Record 35 of Set 3 | revelstoke\n",
      "Processing Record 36 of Set 3 | bengkulu\n",
      "Processing Record 37 of Set 3 | polis\n",
      "Processing Record 38 of Set 3 | nizhneyansk\n",
      "City not found. Skipping...\n",
      "Processing Record 39 of Set 3 | souillac\n",
      "Processing Record 40 of Set 3 | vardo\n",
      "Processing Record 41 of Set 3 | anzio\n",
      "Processing Record 42 of Set 3 | iqaluit\n",
      "Processing Record 43 of Set 3 | airai\n",
      "Processing Record 44 of Set 3 | kodiak\n",
      "Processing Record 45 of Set 3 | ola\n",
      "Processing Record 46 of Set 3 | pyinmana\n",
      "Processing Record 47 of Set 3 | cidreira\n",
      "Processing Record 48 of Set 3 | namatanai\n",
      "Processing Record 49 of Set 3 | bathsheba\n",
      "Processing Record 50 of Set 3 | asbestovskiy\n",
      "Processing Record 1 of Set 4 | qandala\n",
      "Processing Record 2 of Set 4 | canico\n",
      "Processing Record 3 of Set 4 | port elizabeth\n",
      "Processing Record 4 of Set 4 | aginskoye\n",
      "Processing Record 5 of Set 4 | mackenzie\n",
      "Processing Record 6 of Set 4 | bethel\n",
      "Processing Record 7 of Set 4 | starobaltachevo\n",
      "Processing Record 8 of Set 4 | guerrero negro\n",
      "Processing Record 9 of Set 4 | talnakh\n",
      "Processing Record 10 of Set 4 | ponta do sol\n",
      "Processing Record 11 of Set 4 | vostok\n",
      "Processing Record 12 of Set 4 | alamosa\n",
      "Processing Record 13 of Set 4 | faanui\n",
      "Processing Record 14 of Set 4 | los llanos de aridane\n",
      "Processing Record 15 of Set 4 | broome\n",
      "Processing Record 16 of Set 4 | barawe\n",
      "City not found. Skipping...\n",
      "Processing Record 17 of Set 4 | east london\n",
      "Processing Record 18 of Set 4 | killybegs\n",
      "Processing Record 19 of Set 4 | sulangan\n",
      "Processing Record 20 of Set 4 | okhotsk\n",
      "Processing Record 21 of Set 4 | mangai\n",
      "Processing Record 22 of Set 4 | quesnel\n",
      "Processing Record 23 of Set 4 | caramay\n",
      "Processing Record 24 of Set 4 | riviere-au-renard\n",
      "Processing Record 25 of Set 4 | bambous virieux\n",
      "Processing Record 26 of Set 4 | synya\n",
      "Processing Record 27 of Set 4 | constantine\n",
      "Processing Record 28 of Set 4 | punta arenas\n",
      "Processing Record 29 of Set 4 | gazni\n",
      "City not found. Skipping...\n",
      "Processing Record 30 of Set 4 | goderich\n",
      "Processing Record 31 of Set 4 | vila franca do campo\n",
      "Processing Record 32 of Set 4 | saint-joseph\n",
      "Processing Record 33 of Set 4 | kurilsk\n",
      "Processing Record 34 of Set 4 | sangar\n",
      "Processing Record 35 of Set 4 | aswan\n",
      "Processing Record 36 of Set 4 | stornoway\n",
      "Processing Record 37 of Set 4 | teya\n",
      "Processing Record 38 of Set 4 | mezen\n"
     ]
    },
    {
     "name": "stdout",
     "output_type": "stream",
     "text": [
      "Processing Record 39 of Set 4 | buqayq\n",
      "City not found. Skipping...\n",
      "Processing Record 40 of Set 4 | barentsburg\n",
      "City not found. Skipping...\n",
      "Processing Record 41 of Set 4 | edirne\n",
      "Processing Record 42 of Set 4 | coihaique\n",
      "Processing Record 43 of Set 4 | dingle\n",
      "Processing Record 44 of Set 4 | namibe\n",
      "Processing Record 45 of Set 4 | sioux lookout\n",
      "Processing Record 46 of Set 4 | jurm\n",
      "Processing Record 47 of Set 4 | ahipara\n",
      "Processing Record 48 of Set 4 | chulman\n",
      "Processing Record 49 of Set 4 | floro\n",
      "Processing Record 50 of Set 4 | winnipeg\n",
      "Processing Record 1 of Set 5 | ponta pora\n",
      "Processing Record 2 of Set 5 | hagenow\n",
      "Processing Record 3 of Set 5 | alexandria\n",
      "Processing Record 4 of Set 5 | provideniya\n",
      "Processing Record 5 of Set 5 | kholtoson\n",
      "Processing Record 6 of Set 5 | jadu\n",
      "Processing Record 7 of Set 5 | mount gambier\n",
      "Processing Record 8 of Set 5 | burica\n",
      "City not found. Skipping...\n",
      "Processing Record 9 of Set 5 | usinsk\n",
      "Processing Record 10 of Set 5 | cuiluan\n",
      "Processing Record 11 of Set 5 | broken hill\n",
      "Processing Record 12 of Set 5 | thompson\n",
      "Processing Record 13 of Set 5 | amderma\n",
      "City not found. Skipping...\n",
      "Processing Record 14 of Set 5 | rocha\n",
      "Processing Record 15 of Set 5 | viedma\n",
      "Processing Record 16 of Set 5 | nueve de julio\n",
      "Processing Record 17 of Set 5 | paramonga\n",
      "Processing Record 18 of Set 5 | ballina\n",
      "Processing Record 19 of Set 5 | esperance\n",
      "Processing Record 20 of Set 5 | bowen\n",
      "Processing Record 21 of Set 5 | tasbuget\n",
      "City not found. Skipping...\n",
      "Processing Record 22 of Set 5 | natal\n",
      "Processing Record 23 of Set 5 | hobyo\n",
      "Processing Record 24 of Set 5 | victoria\n",
      "Processing Record 25 of Set 5 | tumannyy\n",
      "City not found. Skipping...\n",
      "Processing Record 26 of Set 5 | camacha\n",
      "Processing Record 27 of Set 5 | irvine\n",
      "Processing Record 28 of Set 5 | iquique\n",
      "Processing Record 29 of Set 5 | yangjiang\n",
      "Processing Record 30 of Set 5 | la primavera\n",
      "Processing Record 31 of Set 5 | lovington\n",
      "Processing Record 32 of Set 5 | san patricio\n",
      "Processing Record 33 of Set 5 | sao borja\n",
      "Processing Record 34 of Set 5 | carnarvon\n",
      "Processing Record 35 of Set 5 | saint-paul\n",
      "Processing Record 36 of Set 5 | saskylakh\n",
      "Processing Record 37 of Set 5 | mahenge\n",
      "Processing Record 38 of Set 5 | severo-kurilsk\n",
      "Processing Record 39 of Set 5 | komsomolskiy\n",
      "Processing Record 40 of Set 5 | shelburne\n",
      "Processing Record 41 of Set 5 | bima\n",
      "Processing Record 42 of Set 5 | saint george\n",
      "Processing Record 43 of Set 5 | adalsbruk\n",
      "City not found. Skipping...\n",
      "Processing Record 44 of Set 5 | puruliya\n",
      "Processing Record 45 of Set 5 | cayenne\n",
      "Processing Record 46 of Set 5 | nanakuli\n",
      "Processing Record 47 of Set 5 | felanitx\n",
      "Processing Record 48 of Set 5 | teknaf\n",
      "Processing Record 49 of Set 5 | ondorhaan\n",
      "City not found. Skipping...\n",
      "Processing Record 50 of Set 5 | silleda\n",
      "Processing Record 1 of Set 6 | hervey bay\n",
      "Processing Record 2 of Set 6 | karpathos\n",
      "Processing Record 3 of Set 6 | lavrentiya\n",
      "Processing Record 4 of Set 6 | kamaishi\n",
      "Processing Record 5 of Set 6 | qasigiannguit\n",
      "Processing Record 6 of Set 6 | umzimvubu\n",
      "City not found. Skipping...\n",
      "Processing Record 7 of Set 6 | finale ligure\n",
      "Processing Record 8 of Set 6 | anori\n",
      "Processing Record 9 of Set 6 | aktau\n",
      "Processing Record 10 of Set 6 | tigil\n",
      "Processing Record 11 of Set 6 | bolungarvik\n",
      "City not found. Skipping...\n",
      "Processing Record 12 of Set 6 | maceio\n",
      "Processing Record 13 of Set 6 | axim\n",
      "Processing Record 14 of Set 6 | waingapu\n",
      "Processing Record 15 of Set 6 | chernyshevskiy\n",
      "Processing Record 16 of Set 6 | menongue\n",
      "Processing Record 17 of Set 6 | buraydah\n",
      "Processing Record 18 of Set 6 | shu\n",
      "Processing Record 19 of Set 6 | bahia blanca\n",
      "Processing Record 20 of Set 6 | jumla\n",
      "Processing Record 21 of Set 6 | karasburg\n",
      "Processing Record 22 of Set 6 | den helder\n",
      "Processing Record 23 of Set 6 | yumen\n",
      "Processing Record 24 of Set 6 | bandarbeyla\n",
      "Processing Record 25 of Set 6 | leningradskiy\n",
      "Processing Record 26 of Set 6 | katangli\n",
      "Processing Record 27 of Set 6 | westport\n",
      "Processing Record 28 of Set 6 | stoyba\n",
      "City not found. Skipping...\n",
      "Processing Record 29 of Set 6 | marsa matruh\n",
      "Processing Record 30 of Set 6 | mahadday weyne\n",
      "City not found. Skipping...\n",
      "Processing Record 31 of Set 6 | ilek\n",
      "Processing Record 32 of Set 6 | lampazos de naranjo\n",
      "Processing Record 33 of Set 6 | leshukonskoye\n",
      "Processing Record 34 of Set 6 | soyo\n",
      "Processing Record 35 of Set 6 | inhambane\n",
      "Processing Record 36 of Set 6 | louisbourg\n",
      "City not found. Skipping...\n",
      "Processing Record 37 of Set 6 | sao felix do xingu\n",
      "Processing Record 38 of Set 6 | chalmette\n",
      "Processing Record 39 of Set 6 | mungaa\n",
      "Processing Record 40 of Set 6 | kadoshkino\n",
      "Processing Record 41 of Set 6 | samalaeulu\n",
      "City not found. Skipping...\n",
      "Processing Record 42 of Set 6 | impfondo\n",
      "Processing Record 43 of Set 6 | ternate\n",
      "Processing Record 44 of Set 6 | marcona\n",
      "City not found. Skipping...\n",
      "Processing Record 45 of Set 6 | kutum\n",
      "Processing Record 46 of Set 6 | yerbogachen\n",
      "Processing Record 47 of Set 6 | marsh harbour\n",
      "Processing Record 48 of Set 6 | conde\n",
      "Processing Record 49 of Set 6 | vermilion\n",
      "Processing Record 50 of Set 6 | yagodnoye\n",
      "Processing Record 1 of Set 7 | isangel\n",
      "Processing Record 2 of Set 7 | lompoc\n",
      "Processing Record 3 of Set 7 | sao filipe\n",
      "Processing Record 4 of Set 7 | homer\n",
      "Processing Record 5 of Set 7 | bhola\n",
      "Processing Record 6 of Set 7 | yenagoa\n",
      "Processing Record 7 of Set 7 | pacific grove\n",
      "Processing Record 8 of Set 7 | san rafael\n",
      "Processing Record 9 of Set 7 | nanortalik\n",
      "Processing Record 10 of Set 7 | sentyabrskiy\n",
      "City not found. Skipping...\n",
      "Processing Record 11 of Set 7 | wschowa\n",
      "Processing Record 12 of Set 7 | constitucion\n",
      "Processing Record 13 of Set 7 | luderitz\n",
      "Processing Record 14 of Set 7 | howard springs\n",
      "Processing Record 15 of Set 7 | kitgum\n",
      "Processing Record 16 of Set 7 | college\n",
      "Processing Record 17 of Set 7 | jacqueville\n",
      "Processing Record 18 of Set 7 | byron bay\n",
      "Processing Record 19 of Set 7 | khao yoi\n",
      "Processing Record 20 of Set 7 | puerto baquerizo moreno\n",
      "Processing Record 21 of Set 7 | mach\n",
      "Processing Record 22 of Set 7 | cherskiy\n",
      "Processing Record 23 of Set 7 | tunduru\n",
      "City not found. Skipping...\n",
      "Processing Record 24 of Set 7 | ingham\n",
      "Processing Record 25 of Set 7 | olafsvik\n",
      "Processing Record 26 of Set 7 | sorvag\n",
      "City not found. Skipping...\n",
      "Processing Record 27 of Set 7 | petropavlovsk-kamchatskiy\n",
      "Processing Record 28 of Set 7 | ende\n",
      "Processing Record 29 of Set 7 | srednekolymsk\n",
      "Processing Record 30 of Set 7 | bukene\n",
      "Processing Record 31 of Set 7 | lulea\n",
      "Processing Record 32 of Set 7 | habay\n",
      "Processing Record 33 of Set 7 | beisfjord\n",
      "Processing Record 34 of Set 7 | conceicao do araguaia\n",
      "Processing Record 35 of Set 7 | prachuap khiri khan\n",
      "Processing Record 36 of Set 7 | baykit\n",
      "Processing Record 37 of Set 7 | bongandanga\n",
      "Processing Record 38 of Set 7 | lixourion\n",
      "Processing Record 39 of Set 7 | ust-omchug\n",
      "Processing Record 40 of Set 7 | anadyr\n",
      "Processing Record 41 of Set 7 | londa\n",
      "Processing Record 42 of Set 7 | tocopilla\n",
      "Processing Record 43 of Set 7 | panguna\n",
      "Processing Record 44 of Set 7 | makungu\n",
      "Processing Record 45 of Set 7 | sabang\n",
      "Processing Record 46 of Set 7 | marzuq\n",
      "Processing Record 47 of Set 7 | bassar\n",
      "Processing Record 48 of Set 7 | prince rupert\n",
      "Processing Record 49 of Set 7 | ust-kamchatsk\n",
      "City not found. Skipping...\n",
      "Processing Record 50 of Set 7 | biscarrosse\n",
      "Processing Record 1 of Set 8 | ambilobe\n",
      "Processing Record 2 of Set 8 | atasu\n",
      "Processing Record 3 of Set 8 | taoudenni\n",
      "Processing Record 4 of Set 8 | sao gabriel da cachoeira\n",
      "Processing Record 5 of Set 8 | santa isabel\n",
      "Processing Record 6 of Set 8 | ruwi\n",
      "Processing Record 7 of Set 8 | port-gentil\n",
      "Processing Record 8 of Set 8 | kaarina\n",
      "Processing Record 9 of Set 8 | pampa\n",
      "Processing Record 10 of Set 8 | kismayo\n",
      "Processing Record 11 of Set 8 | lolua\n",
      "City not found. Skipping...\n",
      "Processing Record 12 of Set 8 | chikwawa\n",
      "Processing Record 13 of Set 8 | warqla\n",
      "City not found. Skipping...\n",
      "Processing Record 14 of Set 8 | flin flon\n",
      "Processing Record 15 of Set 8 | aklavik\n",
      "Processing Record 16 of Set 8 | ancud\n",
      "Processing Record 17 of Set 8 | port macquarie\n",
      "Processing Record 18 of Set 8 | saldanha\n",
      "Processing Record 19 of Set 8 | kresttsy\n",
      "Processing Record 20 of Set 8 | olavarria\n",
      "Processing Record 21 of Set 8 | rock springs\n",
      "Processing Record 22 of Set 8 | codrington\n"
     ]
    },
    {
     "name": "stdout",
     "output_type": "stream",
     "text": [
      "Processing Record 23 of Set 8 | beyla\n",
      "Processing Record 24 of Set 8 | chokurdakh\n",
      "Processing Record 25 of Set 8 | yulara\n",
      "Processing Record 26 of Set 8 | dickinson\n",
      "Processing Record 27 of Set 8 | san lorenzo\n",
      "Processing Record 28 of Set 8 | banda aceh\n",
      "Processing Record 29 of Set 8 | upernavik\n",
      "Processing Record 30 of Set 8 | fuzhou\n",
      "Processing Record 31 of Set 8 | havre-saint-pierre\n",
      "Processing Record 32 of Set 8 | kawambwa\n",
      "Processing Record 33 of Set 8 | rawson\n",
      "Processing Record 34 of Set 8 | kalmunai\n",
      "Processing Record 35 of Set 8 | vieste\n",
      "Processing Record 36 of Set 8 | bardiyah\n",
      "Processing Record 37 of Set 8 | eyl\n",
      "Processing Record 38 of Set 8 | ilulissat\n",
      "Processing Record 39 of Set 8 | tautira\n",
      "Processing Record 40 of Set 8 | tambo grande\n",
      "Processing Record 41 of Set 8 | lata\n",
      "Processing Record 42 of Set 8 | tuatapere\n",
      "Processing Record 43 of Set 8 | puerto del rosario\n",
      "Processing Record 44 of Set 8 | comodoro rivadavia\n",
      "Processing Record 45 of Set 8 | takoradi\n",
      "Processing Record 46 of Set 8 | oxapampa\n",
      "Processing Record 47 of Set 8 | georgetown\n",
      "Processing Record 48 of Set 8 | husavik\n",
      "Processing Record 49 of Set 8 | bonavista\n",
      "Processing Record 50 of Set 8 | aldergrove\n",
      "Processing Record 1 of Set 9 | acapulco\n",
      "Processing Record 2 of Set 9 | vengerovo\n",
      "Processing Record 3 of Set 9 | karaton\n",
      "Processing Record 4 of Set 9 | haines junction\n",
      "Processing Record 5 of Set 9 | aksarka\n",
      "Processing Record 6 of Set 9 | abha\n",
      "Processing Record 7 of Set 9 | ponta delgada\n",
      "Processing Record 8 of Set 9 | juneau\n",
      "Processing Record 9 of Set 9 | gizo\n",
      "Processing Record 10 of Set 9 | tecolutla\n",
      "Processing Record 11 of Set 9 | dunedin\n",
      "Processing Record 12 of Set 9 | sinkat\n",
      "City not found. Skipping...\n",
      "Processing Record 13 of Set 9 | jalu\n",
      "Processing Record 14 of Set 9 | povorino\n",
      "Processing Record 15 of Set 9 | clinton\n",
      "Processing Record 16 of Set 9 | ambovombe\n",
      "Processing Record 17 of Set 9 | alyangula\n",
      "Processing Record 18 of Set 9 | bengkalis\n",
      "City not found. Skipping...\n",
      "Processing Record 19 of Set 9 | aragarcas\n",
      "Processing Record 20 of Set 9 | gobabis\n",
      "Processing Record 21 of Set 9 | half moon bay\n",
      "Processing Record 22 of Set 9 | cache creek\n",
      "Processing Record 23 of Set 9 | lucea\n",
      "Processing Record 24 of Set 9 | odienne\n",
      "Processing Record 25 of Set 9 | san quintin\n",
      "Processing Record 26 of Set 9 | cubuk\n",
      "Processing Record 27 of Set 9 | varhaug\n",
      "Processing Record 28 of Set 9 | santa cruz de la palma\n",
      "Processing Record 29 of Set 9 | pevek\n",
      "Processing Record 30 of Set 9 | pasan\n",
      "Processing Record 31 of Set 9 | pisco\n",
      "Processing Record 32 of Set 9 | vidyayevo\n",
      "Processing Record 33 of Set 9 | sibolga\n",
      "Processing Record 34 of Set 9 | kargopol\n",
      "Processing Record 35 of Set 9 | shuya\n",
      "Processing Record 36 of Set 9 | inndyr\n",
      "Processing Record 37 of Set 9 | richmond hill\n",
      "Processing Record 38 of Set 9 | sambava\n",
      "Processing Record 39 of Set 9 | kushiro\n",
      "Processing Record 40 of Set 9 | morondava\n",
      "Processing Record 41 of Set 9 | praia da vitoria\n",
      "Processing Record 42 of Set 9 | yantal\n",
      "Processing Record 43 of Set 9 | deloraine\n",
      "Processing Record 44 of Set 9 | prainha\n",
      "Processing Record 45 of Set 9 | jinchang\n",
      "Processing Record 46 of Set 9 | narsaq\n",
      "Processing Record 47 of Set 9 | tasiilaq\n",
      "Processing Record 48 of Set 9 | bambanglipuro\n",
      "Processing Record 49 of Set 9 | gairo\n",
      "Processing Record 50 of Set 9 | myitkyina\n",
      "Processing Record 1 of Set 10 | grimari\n",
      "City not found. Skipping...\n",
      "Processing Record 2 of Set 10 | deputatskiy\n",
      "Processing Record 3 of Set 10 | road town\n",
      "Processing Record 4 of Set 10 | ostrovnoy\n",
      "Processing Record 5 of Set 10 | parthenay\n",
      "Processing Record 6 of Set 10 | waddan\n",
      "Processing Record 7 of Set 10 | ketchikan\n",
      "Processing Record 8 of Set 10 | cetariu\n",
      "Processing Record 9 of Set 10 | donskoye\n",
      "Processing Record 10 of Set 10 | khatanga\n",
      "Processing Record 11 of Set 10 | rantepao\n",
      "Processing Record 12 of Set 10 | sistranda\n",
      "Processing Record 13 of Set 10 | griffith\n",
      "Processing Record 14 of Set 10 | thunder bay\n",
      "Processing Record 15 of Set 10 | igarka\n",
      "Processing Record 16 of Set 10 | novopokrovka\n",
      "Processing Record 17 of Set 10 | orlik\n",
      "Processing Record 18 of Set 10 | ocampo\n",
      "Processing Record 19 of Set 10 | pandan\n",
      "Processing Record 20 of Set 10 | alofi\n",
      "Processing Record 21 of Set 10 | mogocha\n",
      "Processing Record 22 of Set 10 | la romana\n",
      "Processing Record 23 of Set 10 | sergeyevka\n",
      "Processing Record 24 of Set 10 | klaksvik\n",
      "Processing Record 25 of Set 10 | mayumba\n",
      "Processing Record 26 of Set 10 | dongkan\n",
      "Processing Record 27 of Set 10 | mineiros\n",
      "Processing Record 28 of Set 10 | sarkand\n",
      "Processing Record 29 of Set 10 | kampot\n",
      "Processing Record 30 of Set 10 | puerto madero\n",
      "Processing Record 31 of Set 10 | suihua\n",
      "Processing Record 32 of Set 10 | radomsko\n",
      "Processing Record 33 of Set 10 | saint pete beach\n",
      "Processing Record 34 of Set 10 | taylor\n",
      "Processing Record 35 of Set 10 | salinas\n",
      "Processing Record 36 of Set 10 | ilhabela\n",
      "Processing Record 37 of Set 10 | bilma\n",
      "Processing Record 38 of Set 10 | boyabat\n",
      "Processing Record 39 of Set 10 | lakes entrance\n",
      "Processing Record 40 of Set 10 | bolu\n",
      "Processing Record 41 of Set 10 | siavonga\n",
      "Processing Record 42 of Set 10 | shambu\n",
      "Processing Record 43 of Set 10 | olinda\n",
      "Processing Record 44 of Set 10 | kashi\n",
      "Processing Record 45 of Set 10 | cap malheureux\n",
      "Processing Record 46 of Set 10 | balkanabat\n",
      "Processing Record 47 of Set 10 | naryan-mar\n",
      "Processing Record 48 of Set 10 | richards bay\n",
      "Processing Record 49 of Set 10 | vlore\n",
      "Processing Record 50 of Set 10 | maghama\n",
      "City not found. Skipping...\n",
      "Processing Record 1 of Set 11 | sydney\n",
      "Processing Record 2 of Set 11 | salalah\n",
      "Processing Record 3 of Set 11 | veraval\n",
      "Processing Record 4 of Set 11 | talmenka\n",
      "Processing Record 5 of Set 11 | bolshevik\n",
      "Processing Record 6 of Set 11 | gorno-altaysk\n",
      "Processing Record 7 of Set 11 | spasskoye\n",
      "Processing Record 8 of Set 11 | naze\n",
      "Processing Record 9 of Set 11 | carauari\n",
      "Processing Record 10 of Set 11 | kirovskiy\n",
      "Processing Record 11 of Set 11 | port hedland\n",
      "Processing Record 12 of Set 11 | howell\n",
      "Processing Record 13 of Set 11 | sinnamary\n",
      "Processing Record 14 of Set 11 | bokspits\n",
      "City not found. Skipping...\n",
      "Processing Record 15 of Set 11 | merauke\n",
      "Processing Record 16 of Set 11 | roma\n",
      "Processing Record 17 of Set 11 | thai binh\n",
      "Processing Record 18 of Set 11 | cockburn town\n",
      "Processing Record 19 of Set 11 | krasnoarmeysk\n",
      "Processing Record 20 of Set 11 | imbituba\n",
      "Processing Record 21 of Set 11 | tanout\n",
      "Processing Record 22 of Set 11 | paracuru\n",
      "Processing Record 23 of Set 11 | vikhorevka\n",
      "Processing Record 24 of Set 11 | saint-pierre\n",
      "Processing Record 25 of Set 11 | antalaha\n",
      "Processing Record 26 of Set 11 | damghan\n",
      "Processing Record 27 of Set 11 | nkhotakota\n",
      "Processing Record 28 of Set 11 | kavieng\n",
      "Processing Record 29 of Set 11 | quelimane\n",
      "Processing Record 30 of Set 11 | vila velha\n",
      "Processing Record 31 of Set 11 | sur\n",
      "Processing Record 32 of Set 11 | lorengau\n",
      "Processing Record 33 of Set 11 | palabuhanratu\n",
      "City not found. Skipping...\n",
      "Processing Record 34 of Set 11 | beyneu\n",
      "Processing Record 35 of Set 11 | mehamn\n",
      "Processing Record 36 of Set 11 | asau\n",
      "Processing Record 37 of Set 11 | tabiauea\n",
      "City not found. Skipping...\n",
      "Processing Record 38 of Set 11 | novobirilyussy\n",
      "Processing Record 39 of Set 11 | mapiripan\n",
      "Processing Record 40 of Set 11 | valparaiso\n",
      "Processing Record 41 of Set 11 | kambove\n",
      "Processing Record 42 of Set 11 | maunabo\n",
      "Processing Record 43 of Set 11 | amapa\n",
      "Processing Record 44 of Set 11 | preobrazheniye\n",
      "Processing Record 45 of Set 11 | tongren\n",
      "Processing Record 46 of Set 11 | san matias\n",
      "Processing Record 47 of Set 11 | waitati\n",
      "Processing Record 48 of Set 11 | antofagasta\n",
      "Processing Record 49 of Set 11 | balimo\n",
      "City not found. Skipping...\n",
      "Processing Record 50 of Set 11 | tatawin\n",
      "Processing Record 1 of Set 12 | ostersund\n",
      "Processing Record 2 of Set 12 | marinette\n",
      "Processing Record 3 of Set 12 | porto walter\n",
      "Processing Record 4 of Set 12 | yanam\n",
      "Processing Record 5 of Set 12 | iguape\n",
      "Processing Record 6 of Set 12 | dingli\n",
      "Processing Record 7 of Set 12 | hualmay\n",
      "Processing Record 8 of Set 12 | bac giang\n",
      "Processing Record 9 of Set 12 | purpe\n",
      "Processing Record 10 of Set 12 | upata\n",
      "Processing Record 11 of Set 12 | linxi\n",
      "Processing Record 12 of Set 12 | eatonton\n",
      "Processing Record 13 of Set 12 | fort abbas\n",
      "Processing Record 14 of Set 12 | rorvik\n"
     ]
    },
    {
     "name": "stdout",
     "output_type": "stream",
     "text": [
      "Processing Record 15 of Set 12 | carlyle\n",
      "Processing Record 16 of Set 12 | cabedelo\n",
      "Processing Record 17 of Set 12 | magdagachi\n",
      "Processing Record 18 of Set 12 | babati\n",
      "Processing Record 19 of Set 12 | kusk\n",
      "City not found. Skipping...\n",
      "Processing Record 20 of Set 12 | nabire\n",
      "Processing Record 21 of Set 12 | whitehorse\n",
      "Processing Record 22 of Set 12 | chicama\n",
      "Processing Record 23 of Set 12 | sibenik\n",
      "Processing Record 24 of Set 12 | ospitaletto\n",
      "Processing Record 25 of Set 12 | clyde river\n",
      "Processing Record 26 of Set 12 | el badari\n",
      "City not found. Skipping...\n",
      "Processing Record 27 of Set 12 | xining\n",
      "Processing Record 28 of Set 12 | xiaoweizhai\n",
      "Processing Record 29 of Set 12 | marrakesh\n",
      "Processing Record 30 of Set 12 | birmitrapur\n",
      "Processing Record 31 of Set 12 | nyurba\n",
      "Processing Record 32 of Set 12 | geraldton\n",
      "Processing Record 33 of Set 12 | vao\n",
      "Processing Record 34 of Set 12 | kenora\n",
      "Processing Record 35 of Set 12 | taybad\n",
      "Processing Record 36 of Set 12 | launceston\n",
      "Processing Record 37 of Set 12 | tidore\n",
      "City not found. Skipping...\n",
      "Processing Record 38 of Set 12 | miranpur\n",
      "Processing Record 39 of Set 12 | mosquera\n",
      "Processing Record 40 of Set 12 | satitoa\n",
      "City not found. Skipping...\n",
      "Processing Record 41 of Set 12 | santana do livramento\n",
      "Processing Record 42 of Set 12 | mount pleasant\n",
      "Processing Record 43 of Set 12 | taunggyi\n",
      "Processing Record 44 of Set 12 | vanimo\n",
      "Processing Record 45 of Set 12 | brainerd\n",
      "Processing Record 46 of Set 12 | shakawe\n",
      "Processing Record 47 of Set 12 | bayburt\n",
      "Processing Record 48 of Set 12 | togur\n",
      "Processing Record 49 of Set 12 | laguna\n",
      "Processing Record 50 of Set 12 | ystad\n",
      "Processing Record 1 of Set 13 | kavaratti\n",
      "-----------------------------\n",
      "Data Retrieval Complete      \n",
      "-----------------------------\n"
     ]
    }
   ],
   "source": [
    "# Loop through all the cities in the list.\n",
    "for i, city in enumerate(cities):\n",
    "\n",
    "    # Group cities in sets of 50 for logging purposes.\n",
    "    if (i % 50 == 0 and i >= 50):\n",
    "        set_count += 1\n",
    "        record_count = 1\n",
    "    # Create endpoint URL with each city.\n",
    "    city_url = url + \"&q=\" + city.replace(\" \",\"+\")\n",
    "\n",
    "    # Log the URL, record, and set numbers and the city.\n",
    "    print(f\"Processing Record {record_count} of Set {set_count} | {city}\")\n",
    "    # Add 1 to the record count.\n",
    "    record_count += 1\n",
    "    \n",
    " # Run an API request for each of the cities.\n",
    "    try:\n",
    "        # Parse the JSON and retrieve data.\n",
    "        city_weather = requests.get(city_url).json()\n",
    "        # Parse out the needed data.\n",
    "        city_lat = city_weather[\"coord\"][\"lat\"]\n",
    "        city_lng = city_weather[\"coord\"][\"lon\"]\n",
    "        city_max_temp = city_weather[\"main\"][\"temp_max\"]\n",
    "        city_humidity = city_weather[\"main\"][\"humidity\"]\n",
    "        city_clouds = city_weather[\"clouds\"][\"all\"]\n",
    "        city_wind = city_weather[\"wind\"][\"speed\"]\n",
    "        city_country = city_weather[\"sys\"][\"country\"]\n",
    "        # Convert the date to ISO standard.\n",
    "        city_date = datetime.utcfromtimestamp(city_weather[\"dt\"]).strftime('%Y-%m-%d %H:%M:%S')\n",
    "        # Append the city information into city_data list.\n",
    "        city_data.append({\"City\": city.title(),\n",
    "                          \"Lat\": city_lat,\n",
    "                          \"Lng\": city_lng,\n",
    "                          \"Max Temp\": city_max_temp,\n",
    "                          \"Humidity\": city_humidity,\n",
    "                          \"Cloudiness\": city_clouds,\n",
    "                          \"Wind Speed\": city_wind,\n",
    "                          \"Country\": city_country,\n",
    "                          \"Date\": city_date})\n",
    "\n",
    "# If an error is experienced, skip the city.\n",
    "    except:\n",
    "        print(\"City not found. Skipping...\")\n",
    "        pass\n",
    "\n",
    "# Indicate that Data Loading is complete.\n",
    "print(\"-----------------------------\")\n",
    "print(\"Data Retrieval Complete      \")\n",
    "print(\"-----------------------------\")   \n"
   ]
  },
  {
   "cell_type": "code",
   "execution_count": 10,
   "metadata": {},
   "outputs": [
    {
     "data": {
      "text/plain": [
       "552"
      ]
     },
     "execution_count": 10,
     "metadata": {},
     "output_type": "execute_result"
    }
   ],
   "source": [
    "len(city_data)"
   ]
  },
  {
   "cell_type": "markdown",
   "metadata": {},
   "source": [
    "## Create a DataFrame of City Weather Data"
   ]
  },
  {
   "cell_type": "code",
   "execution_count": 11,
   "metadata": {},
   "outputs": [
    {
     "data": {
      "text/html": [
       "<div>\n",
       "<style scoped>\n",
       "    .dataframe tbody tr th:only-of-type {\n",
       "        vertical-align: middle;\n",
       "    }\n",
       "\n",
       "    .dataframe tbody tr th {\n",
       "        vertical-align: top;\n",
       "    }\n",
       "\n",
       "    .dataframe thead th {\n",
       "        text-align: right;\n",
       "    }\n",
       "</style>\n",
       "<table border=\"1\" class=\"dataframe\">\n",
       "  <thead>\n",
       "    <tr style=\"text-align: right;\">\n",
       "      <th></th>\n",
       "      <th>City</th>\n",
       "      <th>Lat</th>\n",
       "      <th>Lng</th>\n",
       "      <th>Max Temp</th>\n",
       "      <th>Humidity</th>\n",
       "      <th>Cloudiness</th>\n",
       "      <th>Wind Speed</th>\n",
       "      <th>Country</th>\n",
       "      <th>Date</th>\n",
       "    </tr>\n",
       "  </thead>\n",
       "  <tbody>\n",
       "    <tr>\n",
       "      <th>0</th>\n",
       "      <td>Auki</td>\n",
       "      <td>-8.7676</td>\n",
       "      <td>160.7034</td>\n",
       "      <td>80.44</td>\n",
       "      <td>83</td>\n",
       "      <td>100</td>\n",
       "      <td>2.26</td>\n",
       "      <td>SB</td>\n",
       "      <td>2021-04-21 06:53:31</td>\n",
       "    </tr>\n",
       "    <tr>\n",
       "      <th>1</th>\n",
       "      <td>Hermanus</td>\n",
       "      <td>-34.4187</td>\n",
       "      <td>19.2345</td>\n",
       "      <td>62.01</td>\n",
       "      <td>89</td>\n",
       "      <td>73</td>\n",
       "      <td>7.00</td>\n",
       "      <td>ZA</td>\n",
       "      <td>2021-04-21 06:53:31</td>\n",
       "    </tr>\n",
       "    <tr>\n",
       "      <th>2</th>\n",
       "      <td>Hithadhoo</td>\n",
       "      <td>-0.6000</td>\n",
       "      <td>73.0833</td>\n",
       "      <td>82.81</td>\n",
       "      <td>63</td>\n",
       "      <td>8</td>\n",
       "      <td>4.12</td>\n",
       "      <td>MV</td>\n",
       "      <td>2021-04-21 06:48:59</td>\n",
       "    </tr>\n",
       "    <tr>\n",
       "      <th>3</th>\n",
       "      <td>Lazaro Cardenas</td>\n",
       "      <td>17.9583</td>\n",
       "      <td>-102.2000</td>\n",
       "      <td>69.82</td>\n",
       "      <td>70</td>\n",
       "      <td>2</td>\n",
       "      <td>3.74</td>\n",
       "      <td>MX</td>\n",
       "      <td>2021-04-21 06:53:32</td>\n",
       "    </tr>\n",
       "    <tr>\n",
       "      <th>4</th>\n",
       "      <td>Jamestown</td>\n",
       "      <td>42.0970</td>\n",
       "      <td>-79.2353</td>\n",
       "      <td>33.01</td>\n",
       "      <td>93</td>\n",
       "      <td>90</td>\n",
       "      <td>11.50</td>\n",
       "      <td>US</td>\n",
       "      <td>2021-04-21 06:52:43</td>\n",
       "    </tr>\n",
       "    <tr>\n",
       "      <th>5</th>\n",
       "      <td>Talcahuano</td>\n",
       "      <td>-36.7167</td>\n",
       "      <td>-73.1167</td>\n",
       "      <td>57.20</td>\n",
       "      <td>94</td>\n",
       "      <td>75</td>\n",
       "      <td>7.54</td>\n",
       "      <td>CL</td>\n",
       "      <td>2021-04-21 06:50:15</td>\n",
       "    </tr>\n",
       "    <tr>\n",
       "      <th>6</th>\n",
       "      <td>Hobart</td>\n",
       "      <td>-42.8794</td>\n",
       "      <td>147.3294</td>\n",
       "      <td>55.40</td>\n",
       "      <td>41</td>\n",
       "      <td>40</td>\n",
       "      <td>17.27</td>\n",
       "      <td>AU</td>\n",
       "      <td>2021-04-21 06:51:35</td>\n",
       "    </tr>\n",
       "    <tr>\n",
       "      <th>7</th>\n",
       "      <td>Puerto Ayora</td>\n",
       "      <td>-0.7393</td>\n",
       "      <td>-90.3518</td>\n",
       "      <td>75.00</td>\n",
       "      <td>98</td>\n",
       "      <td>96</td>\n",
       "      <td>3.60</td>\n",
       "      <td>EC</td>\n",
       "      <td>2021-04-21 06:53:33</td>\n",
       "    </tr>\n",
       "    <tr>\n",
       "      <th>8</th>\n",
       "      <td>Chuy</td>\n",
       "      <td>-33.6971</td>\n",
       "      <td>-53.4616</td>\n",
       "      <td>66.52</td>\n",
       "      <td>72</td>\n",
       "      <td>0</td>\n",
       "      <td>11.86</td>\n",
       "      <td>UY</td>\n",
       "      <td>2021-04-21 06:53:33</td>\n",
       "    </tr>\n",
       "    <tr>\n",
       "      <th>9</th>\n",
       "      <td>Mataura</td>\n",
       "      <td>-46.1927</td>\n",
       "      <td>168.8643</td>\n",
       "      <td>48.00</td>\n",
       "      <td>95</td>\n",
       "      <td>100</td>\n",
       "      <td>4.00</td>\n",
       "      <td>NZ</td>\n",
       "      <td>2021-04-21 06:53:33</td>\n",
       "    </tr>\n",
       "  </tbody>\n",
       "</table>\n",
       "</div>"
      ],
      "text/plain": [
       "              City      Lat       Lng  Max Temp  Humidity  Cloudiness  \\\n",
       "0             Auki  -8.7676  160.7034     80.44        83         100   \n",
       "1         Hermanus -34.4187   19.2345     62.01        89          73   \n",
       "2        Hithadhoo  -0.6000   73.0833     82.81        63           8   \n",
       "3  Lazaro Cardenas  17.9583 -102.2000     69.82        70           2   \n",
       "4        Jamestown  42.0970  -79.2353     33.01        93          90   \n",
       "5       Talcahuano -36.7167  -73.1167     57.20        94          75   \n",
       "6           Hobart -42.8794  147.3294     55.40        41          40   \n",
       "7     Puerto Ayora  -0.7393  -90.3518     75.00        98          96   \n",
       "8             Chuy -33.6971  -53.4616     66.52        72           0   \n",
       "9          Mataura -46.1927  168.8643     48.00        95         100   \n",
       "\n",
       "   Wind Speed Country                 Date  \n",
       "0        2.26      SB  2021-04-21 06:53:31  \n",
       "1        7.00      ZA  2021-04-21 06:53:31  \n",
       "2        4.12      MV  2021-04-21 06:48:59  \n",
       "3        3.74      MX  2021-04-21 06:53:32  \n",
       "4       11.50      US  2021-04-21 06:52:43  \n",
       "5        7.54      CL  2021-04-21 06:50:15  \n",
       "6       17.27      AU  2021-04-21 06:51:35  \n",
       "7        3.60      EC  2021-04-21 06:53:33  \n",
       "8       11.86      UY  2021-04-21 06:53:33  \n",
       "9        4.00      NZ  2021-04-21 06:53:33  "
      ]
     },
     "execution_count": 11,
     "metadata": {},
     "output_type": "execute_result"
    }
   ],
   "source": [
    "# Convert the array of dictionaries to a Pandas DataFrame.\n",
    "city_data_df = pd.DataFrame(city_data)\n",
    "city_data_df.head(10)"
   ]
  },
  {
   "cell_type": "code",
   "execution_count": 12,
   "metadata": {},
   "outputs": [
    {
     "data": {
      "text/html": [
       "<div>\n",
       "<style scoped>\n",
       "    .dataframe tbody tr th:only-of-type {\n",
       "        vertical-align: middle;\n",
       "    }\n",
       "\n",
       "    .dataframe tbody tr th {\n",
       "        vertical-align: top;\n",
       "    }\n",
       "\n",
       "    .dataframe thead th {\n",
       "        text-align: right;\n",
       "    }\n",
       "</style>\n",
       "<table border=\"1\" class=\"dataframe\">\n",
       "  <thead>\n",
       "    <tr style=\"text-align: right;\">\n",
       "      <th></th>\n",
       "      <th>City</th>\n",
       "      <th>Country</th>\n",
       "      <th>Date</th>\n",
       "      <th>Lat</th>\n",
       "      <th>Lng</th>\n",
       "      <th>Max Temp</th>\n",
       "      <th>Humidity</th>\n",
       "      <th>Cloudiness</th>\n",
       "      <th>Wind Speed</th>\n",
       "    </tr>\n",
       "  </thead>\n",
       "  <tbody>\n",
       "    <tr>\n",
       "      <th>0</th>\n",
       "      <td>Auki</td>\n",
       "      <td>SB</td>\n",
       "      <td>2021-04-21 06:53:31</td>\n",
       "      <td>-8.7676</td>\n",
       "      <td>160.7034</td>\n",
       "      <td>80.44</td>\n",
       "      <td>83</td>\n",
       "      <td>100</td>\n",
       "      <td>2.26</td>\n",
       "    </tr>\n",
       "    <tr>\n",
       "      <th>1</th>\n",
       "      <td>Hermanus</td>\n",
       "      <td>ZA</td>\n",
       "      <td>2021-04-21 06:53:31</td>\n",
       "      <td>-34.4187</td>\n",
       "      <td>19.2345</td>\n",
       "      <td>62.01</td>\n",
       "      <td>89</td>\n",
       "      <td>73</td>\n",
       "      <td>7.00</td>\n",
       "    </tr>\n",
       "    <tr>\n",
       "      <th>2</th>\n",
       "      <td>Hithadhoo</td>\n",
       "      <td>MV</td>\n",
       "      <td>2021-04-21 06:48:59</td>\n",
       "      <td>-0.6000</td>\n",
       "      <td>73.0833</td>\n",
       "      <td>82.81</td>\n",
       "      <td>63</td>\n",
       "      <td>8</td>\n",
       "      <td>4.12</td>\n",
       "    </tr>\n",
       "    <tr>\n",
       "      <th>3</th>\n",
       "      <td>Lazaro Cardenas</td>\n",
       "      <td>MX</td>\n",
       "      <td>2021-04-21 06:53:32</td>\n",
       "      <td>17.9583</td>\n",
       "      <td>-102.2000</td>\n",
       "      <td>69.82</td>\n",
       "      <td>70</td>\n",
       "      <td>2</td>\n",
       "      <td>3.74</td>\n",
       "    </tr>\n",
       "    <tr>\n",
       "      <th>4</th>\n",
       "      <td>Jamestown</td>\n",
       "      <td>US</td>\n",
       "      <td>2021-04-21 06:52:43</td>\n",
       "      <td>42.0970</td>\n",
       "      <td>-79.2353</td>\n",
       "      <td>33.01</td>\n",
       "      <td>93</td>\n",
       "      <td>90</td>\n",
       "      <td>11.50</td>\n",
       "    </tr>\n",
       "    <tr>\n",
       "      <th>5</th>\n",
       "      <td>Talcahuano</td>\n",
       "      <td>CL</td>\n",
       "      <td>2021-04-21 06:50:15</td>\n",
       "      <td>-36.7167</td>\n",
       "      <td>-73.1167</td>\n",
       "      <td>57.20</td>\n",
       "      <td>94</td>\n",
       "      <td>75</td>\n",
       "      <td>7.54</td>\n",
       "    </tr>\n",
       "    <tr>\n",
       "      <th>6</th>\n",
       "      <td>Hobart</td>\n",
       "      <td>AU</td>\n",
       "      <td>2021-04-21 06:51:35</td>\n",
       "      <td>-42.8794</td>\n",
       "      <td>147.3294</td>\n",
       "      <td>55.40</td>\n",
       "      <td>41</td>\n",
       "      <td>40</td>\n",
       "      <td>17.27</td>\n",
       "    </tr>\n",
       "    <tr>\n",
       "      <th>7</th>\n",
       "      <td>Puerto Ayora</td>\n",
       "      <td>EC</td>\n",
       "      <td>2021-04-21 06:53:33</td>\n",
       "      <td>-0.7393</td>\n",
       "      <td>-90.3518</td>\n",
       "      <td>75.00</td>\n",
       "      <td>98</td>\n",
       "      <td>96</td>\n",
       "      <td>3.60</td>\n",
       "    </tr>\n",
       "    <tr>\n",
       "      <th>8</th>\n",
       "      <td>Chuy</td>\n",
       "      <td>UY</td>\n",
       "      <td>2021-04-21 06:53:33</td>\n",
       "      <td>-33.6971</td>\n",
       "      <td>-53.4616</td>\n",
       "      <td>66.52</td>\n",
       "      <td>72</td>\n",
       "      <td>0</td>\n",
       "      <td>11.86</td>\n",
       "    </tr>\n",
       "    <tr>\n",
       "      <th>9</th>\n",
       "      <td>Mataura</td>\n",
       "      <td>NZ</td>\n",
       "      <td>2021-04-21 06:53:33</td>\n",
       "      <td>-46.1927</td>\n",
       "      <td>168.8643</td>\n",
       "      <td>48.00</td>\n",
       "      <td>95</td>\n",
       "      <td>100</td>\n",
       "      <td>4.00</td>\n",
       "    </tr>\n",
       "  </tbody>\n",
       "</table>\n",
       "</div>"
      ],
      "text/plain": [
       "              City Country                 Date      Lat       Lng  Max Temp  \\\n",
       "0             Auki      SB  2021-04-21 06:53:31  -8.7676  160.7034     80.44   \n",
       "1         Hermanus      ZA  2021-04-21 06:53:31 -34.4187   19.2345     62.01   \n",
       "2        Hithadhoo      MV  2021-04-21 06:48:59  -0.6000   73.0833     82.81   \n",
       "3  Lazaro Cardenas      MX  2021-04-21 06:53:32  17.9583 -102.2000     69.82   \n",
       "4        Jamestown      US  2021-04-21 06:52:43  42.0970  -79.2353     33.01   \n",
       "5       Talcahuano      CL  2021-04-21 06:50:15 -36.7167  -73.1167     57.20   \n",
       "6           Hobart      AU  2021-04-21 06:51:35 -42.8794  147.3294     55.40   \n",
       "7     Puerto Ayora      EC  2021-04-21 06:53:33  -0.7393  -90.3518     75.00   \n",
       "8             Chuy      UY  2021-04-21 06:53:33 -33.6971  -53.4616     66.52   \n",
       "9          Mataura      NZ  2021-04-21 06:53:33 -46.1927  168.8643     48.00   \n",
       "\n",
       "   Humidity  Cloudiness  Wind Speed  \n",
       "0        83         100        2.26  \n",
       "1        89          73        7.00  \n",
       "2        63           8        4.12  \n",
       "3        70           2        3.74  \n",
       "4        93          90       11.50  \n",
       "5        94          75        7.54  \n",
       "6        41          40       17.27  \n",
       "7        98          96        3.60  \n",
       "8        72           0       11.86  \n",
       "9        95         100        4.00  "
      ]
     },
     "execution_count": 12,
     "metadata": {},
     "output_type": "execute_result"
    }
   ],
   "source": [
    "# Reorder the columns\n",
    "new_column_order = [\"City\", \"Country\", \"Date\", \"Lat\", \"Lng\", \"Max Temp\", \"Humidity\", \"Cloudiness\", \"Wind Speed\"]\n",
    "city_data_df = city_data_df[new_column_order]\n",
    "city_data_df.head(10)"
   ]
  },
  {
   "cell_type": "code",
   "execution_count": 13,
   "metadata": {},
   "outputs": [],
   "source": [
    "# Create the output file (CSV).\n",
    "output_data_file = \"weather_data/cities.csv\"\n",
    "# Export the City_Data into a CSV.\n",
    "city_data_df.to_csv(output_data_file, index_label=\"City_ID\")"
   ]
  },
  {
   "cell_type": "markdown",
   "metadata": {},
   "source": [
    "## Scatter Plots of Weather Data"
   ]
  },
  {
   "cell_type": "markdown",
   "metadata": {},
   "source": [
    "### Get Data for Plotting"
   ]
  },
  {
   "cell_type": "code",
   "execution_count": 14,
   "metadata": {},
   "outputs": [],
   "source": [
    "# Extract relevant fields from the DataFrame for plotting.\n",
    "lats = city_data_df[\"Lat\"]\n",
    "max_temps = city_data_df[\"Max Temp\"]\n",
    "humidity = city_data_df[\"Humidity\"]\n",
    "cloudiness = city_data_df[\"Cloudiness\"]\n",
    "wind_speed = city_data_df[\"Wind Speed\"]"
   ]
  },
  {
   "cell_type": "markdown",
   "metadata": {},
   "source": [
    "#### Scatter Plot for Latitude vs. Max Temperature"
   ]
  },
  {
   "cell_type": "code",
   "execution_count": 15,
   "metadata": {},
   "outputs": [
    {
     "data": {
      "image/png": "[encoded data removed]",
      "text/plain": [
       "<Figure size 432x288 with 1 Axes>"
      ]
     },
     "metadata": {
      "needs_background": "light"
     },
     "output_type": "display_data"
    }
   ],
   "source": [
    "# Import time module\n",
    "import time\n",
    "\n",
    "# Build the scatter plot for latitude vs. max temperature.\n",
    "plt.scatter(lats,\n",
    "            max_temps,\n",
    "            edgecolor=\"black\", linewidths=1, marker=\"o\",\n",
    "            alpha=0.8, label=\"Cities\")\n",
    "\n",
    "# Incorporate the other graph properties.\n",
    "plt.title(f\"City Latitude vs. Max Temperature \"+ time.strftime(\"%x\"))\n",
    "plt.ylabel(\"Max Temperature (F)\")\n",
    "plt.xlabel(\"Latitude\")\n",
    "plt.grid(True)\n",
    "\n",
    "# Save the figure.\n",
    "plt.savefig(\"weather_data/Fig1.png\")\n",
    "\n",
    "# Show plot.\n",
    "plt.show()"
   ]
  },
  {
   "cell_type": "markdown",
   "metadata": {},
   "source": [
    "#### Scatter Plot for Latitude vs. Humidity"
   ]
  },
  {
   "cell_type": "code",
   "execution_count": 16,
   "metadata": {},
   "outputs": [
    {
     "data": {
      "image/png": "[encoded data removed]",
      "text/plain": [
       "<Figure size 432x288 with 1 Axes>"
      ]
     },
     "metadata": {
      "needs_background": "light"
     },
     "output_type": "display_data"
    }
   ],
   "source": [
    "# Build the scatter plots for latitude vs. humidity.\n",
    "plt.scatter(lats,\n",
    "            humidity,\n",
    "            edgecolor=\"black\", linewidths=1, marker=\"o\",\n",
    "            alpha=0.8, label=\"Cities\")\n",
    "\n",
    "# Incorporate the other graph properties.\n",
    "plt.title(f\"City Latitude vs. Humidity \"+ time.strftime(\"%x\"))\n",
    "plt.ylabel(\"Humidity (%)\")\n",
    "plt.xlabel(\"Latitude\")\n",
    "plt.grid(True)\n",
    "# Save the figure.\n",
    "plt.savefig(\"weather_data/Fig2.png\")\n",
    "# Show plot.\n",
    "plt.show()"
   ]
  },
  {
   "cell_type": "markdown",
   "metadata": {},
   "source": [
    "#### Scatter Plot for Latitude vs Cloudiness"
   ]
  },
  {
   "cell_type": "code",
   "execution_count": 17,
   "metadata": {},
   "outputs": [
    {
     "data": {
      "image/png": "[encoded data removed]",
      "text/plain": [
       "<Figure size 432x288 with 1 Axes>"
      ]
     },
     "metadata": {
      "needs_background": "light"
     },
     "output_type": "display_data"
    }
   ],
   "source": [
    "# Build the scatter plots for latitude vs. cloudiness.\n",
    "plt.scatter(lats,\n",
    "            cloudiness,\n",
    "            edgecolor=\"black\", linewidths=1, marker=\"o\",\n",
    "            alpha=0.8, label=\"Cities\")\n",
    "\n",
    "# Incorporate the other graph properties.\n",
    "plt.title(f\"City Latitude vs. Cloudiness (%) \"+ time.strftime(\"%x\"))\n",
    "plt.ylabel(\"Cloudiness (%)\")\n",
    "plt.xlabel(\"Latitude\")\n",
    "plt.grid(True)\n",
    "# Save the figure.\n",
    "plt.savefig(\"weather_data/Fig3.png\")\n",
    "# Show plot.\n",
    "plt.show()"
   ]
  },
  {
   "cell_type": "markdown",
   "metadata": {},
   "source": [
    "#### Scatter Plot for Latitude vs. Wind Speed"
   ]
  },
  {
   "cell_type": "code",
   "execution_count": 18,
   "metadata": {},
   "outputs": [
    {
     "data": {
      "image/png": "[encoded data removed]",
      "text/plain": [
       "<Figure size 432x288 with 1 Axes>"
      ]
     },
     "metadata": {
      "needs_background": "light"
     },
     "output_type": "display_data"
    }
   ],
   "source": [
    "# Build the scatter plots for latitude vs. wind speed.\n",
    "plt.scatter(lats,\n",
    "            wind_speed,\n",
    "            edgecolor=\"black\", linewidths=1, marker=\"o\",\n",
    "            alpha=0.8, label=\"Cities\")\n",
    "\n",
    "# Incorporate the other graph properties.\n",
    "plt.title(f\"City Latitude vs. Wind Speed \"+ time.strftime(\"%x\"))\n",
    "plt.ylabel(\"Wind Speed (mph)\")\n",
    "plt.xlabel(\"Latitude\")\n",
    "plt.grid(True)\n",
    "# Save the figure.\n",
    "plt.savefig(\"weather_data/Fig4.png\")\n",
    "# Show plot.\n",
    "plt.show()"
   ]
  },
  {
   "cell_type": "markdown",
   "metadata": {},
   "source": [
    "## Determine Correlations"
   ]
  },
  {
   "cell_type": "markdown",
   "metadata": {},
   "source": [
    "### Find the Correlation Between Latitude and Maximum Temperature"
   ]
  },
  {
   "cell_type": "markdown",
   "metadata": {},
   "source": [
    "#### Create a Linear Regression Function"
   ]
  },
  {
   "cell_type": "code",
   "execution_count": 22,
   "metadata": {},
   "outputs": [],
   "source": [
    "# Import linregress\n",
    "from scipy.stats import linregress\n",
    "\n",
    "# Create a function to create perform linear regression on the weather data\n",
    "# and plot a regression line and the equation with the data.\n",
    "def plot_linear_regression(x_values, y_values, title, y_label, text_coordinates):\n",
    "\n",
    "    # Run regression on hemisphere weather data.\n",
    "    (slope, intercept, r_value, p_value, std_err) = linregress(x_values, y_values)\n",
    "\n",
    "    # Calculate the regression line \"y values\" from the slope and intercept.\n",
    "    regress_values = x_values * slope + intercept\n",
    "    # Get the equation of the line.\n",
    "    line_eq = \"y = \" + str(round(slope,2)) + \"x + \" + str(round(intercept,2))\n",
    "    # Create a scatter plot and plot the regression line.\n",
    "    plt.scatter(x_values,y_values)\n",
    "    plt.plot(x_values,regress_values,\"r\")\n",
    "    # Annotate the text for the line equation.\n",
    "    plt.annotate(line_eq, text_coordinates, fontsize=15, color=\"red\")\n",
    "    plt.xlabel('Latitude')\n",
    "    plt.ylabel(y_label)\n",
    "    plt.show()"
   ]
  },
  {
   "cell_type": "markdown",
   "metadata": {},
   "source": [
    "#### Create the Hemisphere DataFrames"
   ]
  },
  {
   "cell_type": "code",
   "execution_count": 23,
   "metadata": {},
   "outputs": [
    {
     "data": {
      "text/html": [
       "<div>\n",
       "<style scoped>\n",
       "    .dataframe tbody tr th:only-of-type {\n",
       "        vertical-align: middle;\n",
       "    }\n",
       "\n",
       "    .dataframe tbody tr th {\n",
       "        vertical-align: top;\n",
       "    }\n",
       "\n",
       "    .dataframe thead th {\n",
       "        text-align: right;\n",
       "    }\n",
       "</style>\n",
       "<table border=\"1\" class=\"dataframe\">\n",
       "  <thead>\n",
       "    <tr style=\"text-align: right;\">\n",
       "      <th></th>\n",
       "      <th>City</th>\n",
       "      <th>Country</th>\n",
       "      <th>Date</th>\n",
       "      <th>Lat</th>\n",
       "      <th>Lng</th>\n",
       "      <th>Max Temp</th>\n",
       "      <th>Humidity</th>\n",
       "      <th>Cloudiness</th>\n",
       "      <th>Wind Speed</th>\n",
       "    </tr>\n",
       "  </thead>\n",
       "  <tbody>\n",
       "    <tr>\n",
       "      <th>3</th>\n",
       "      <td>Lazaro Cardenas</td>\n",
       "      <td>MX</td>\n",
       "      <td>2021-04-21 06:53:32</td>\n",
       "      <td>17.9583</td>\n",
       "      <td>-102.2000</td>\n",
       "      <td>69.82</td>\n",
       "      <td>70</td>\n",
       "      <td>2</td>\n",
       "      <td>3.74</td>\n",
       "    </tr>\n",
       "    <tr>\n",
       "      <th>4</th>\n",
       "      <td>Jamestown</td>\n",
       "      <td>US</td>\n",
       "      <td>2021-04-21 06:52:43</td>\n",
       "      <td>42.0970</td>\n",
       "      <td>-79.2353</td>\n",
       "      <td>33.01</td>\n",
       "      <td>93</td>\n",
       "      <td>90</td>\n",
       "      <td>11.50</td>\n",
       "    </tr>\n",
       "    <tr>\n",
       "      <th>10</th>\n",
       "      <td>Makakilo City</td>\n",
       "      <td>US</td>\n",
       "      <td>2021-04-21 06:52:11</td>\n",
       "      <td>21.3469</td>\n",
       "      <td>-158.0858</td>\n",
       "      <td>78.01</td>\n",
       "      <td>69</td>\n",
       "      <td>90</td>\n",
       "      <td>6.29</td>\n",
       "    </tr>\n",
       "    <tr>\n",
       "      <th>13</th>\n",
       "      <td>Velingara</td>\n",
       "      <td>SN</td>\n",
       "      <td>2021-04-21 06:53:34</td>\n",
       "      <td>13.1500</td>\n",
       "      <td>-14.1167</td>\n",
       "      <td>73.31</td>\n",
       "      <td>53</td>\n",
       "      <td>7</td>\n",
       "      <td>4.90</td>\n",
       "    </tr>\n",
       "    <tr>\n",
       "      <th>17</th>\n",
       "      <td>Hamilton</td>\n",
       "      <td>US</td>\n",
       "      <td>2021-04-21 06:52:27</td>\n",
       "      <td>39.1834</td>\n",
       "      <td>-84.5333</td>\n",
       "      <td>33.01</td>\n",
       "      <td>93</td>\n",
       "      <td>90</td>\n",
       "      <td>11.50</td>\n",
       "    </tr>\n",
       "  </tbody>\n",
       "</table>\n",
       "</div>"
      ],
      "text/plain": [
       "               City Country                 Date      Lat       Lng  Max Temp  \\\n",
       "3   Lazaro Cardenas      MX  2021-04-21 06:53:32  17.9583 -102.2000     69.82   \n",
       "4         Jamestown      US  2021-04-21 06:52:43  42.0970  -79.2353     33.01   \n",
       "10    Makakilo City      US  2021-04-21 06:52:11  21.3469 -158.0858     78.01   \n",
       "13        Velingara      SN  2021-04-21 06:53:34  13.1500  -14.1167     73.31   \n",
       "17         Hamilton      US  2021-04-21 06:52:27  39.1834  -84.5333     33.01   \n",
       "\n",
       "    Humidity  Cloudiness  Wind Speed  \n",
       "3         70           2        3.74  \n",
       "4         93          90       11.50  \n",
       "10        69          90        6.29  \n",
       "13        53           7        4.90  \n",
       "17        93          90       11.50  "
      ]
     },
     "execution_count": 23,
     "metadata": {},
     "output_type": "execute_result"
    }
   ],
   "source": [
    "city_data_df.loc[(city_data_df[\"Lat\"] >= 0)].head()"
   ]
  },
  {
   "cell_type": "code",
   "execution_count": 24,
   "metadata": {},
   "outputs": [],
   "source": [
    "# Create Northern and Southern Hemisphere DataFrames.\n",
    "northern_hemi_df = city_data_df.loc[(city_data_df[\"Lat\"] >= 0)]\n",
    "southern_hemi_df = city_data_df.loc[(city_data_df[\"Lat\"] < 0)]"
   ]
  },
  {
   "cell_type": "markdown",
   "metadata": {},
   "source": [
    "#### Perform Linear Regression on the Maximum Temperature for the Northern Hemisphere"
   ]
  },
  {
   "cell_type": "code",
   "execution_count": 62,
   "metadata": {},
   "outputs": [
    {
     "data": {
      "image/png": "[encoded data removed]",
      "text/plain": [
       "<Figure size 432x288 with 1 Axes>"
      ]
     },
     "metadata": {
      "needs_background": "light"
     },
     "output_type": "display_data"
    }
   ],
   "source": [
    "# Linear regression on the Northern Hemisphere\n",
    "x_values = northern_hemi_df[\"Lat\"]\n",
    "y_values = northern_hemi_df[\"Humidity\"]\n",
    "# Call the function.\n",
    "plot_linear_regression(x_values, y_values,\n",
    "                       'Linear Regression on the Northern Hemisphere \\\n",
    "                        for % Humidity', '% Humidity',(40,10))"
   ]
  },
  {
   "cell_type": "markdown",
   "metadata": {},
   "source": [
    "#### Perform Linear Regression on the Maximum Temperature for the Southern Hemisphere"
   ]
  },
  {
   "cell_type": "code",
   "execution_count": 43,
   "metadata": {},
   "outputs": [
    {
     "data": {
      "image/png": "[encoded data removed]",
      "text/plain": [
       "<Figure size 432x288 with 1 Axes>"
      ]
     },
     "metadata": {
      "needs_background": "light"
     },
     "output_type": "display_data"
    }
   ],
   "source": [
    "# Linear regression on the Southern Hemisphere\n",
    "x_values = southern_hemi_df[\"Lat\"]\n",
    "y_values = southern_hemi_df[\"Humidity\"]\n",
    "# Call the function.\n",
    "plot_linear_regression(x_values, y_values,\n",
    "                       'Linear Regression on the Southern Hemisphere \\\n",
    "                        for % Humidity', '% Humidity',(-50,15))"
   ]
  },
  {
   "cell_type": "markdown",
   "metadata": {},
   "source": [
    "### Find the Correlation Between Latitude and Percent Humidity"
   ]
  },
  {
   "cell_type": "markdown",
   "metadata": {},
   "source": [
    "#### Perform Linear Regression on the Percentage of Humidity for the Northern Hemisphere"
   ]
  },
  {
   "cell_type": "code",
   "execution_count": 28,
   "metadata": {},
   "outputs": [
    {
     "data": {
      "image/png": "[encoded data removed]",
      "text/plain": [
       "<Figure size 432x288 with 1 Axes>"
      ]
     },
     "metadata": {
      "needs_background": "light"
     },
     "output_type": "display_data"
    }
   ],
   "source": [
    "# Linear regression on the Northern Hemisphere\n",
    "x_values = northern_hemi_df[\"Lat\"]\n",
    "y_values = northern_hemi_df[\"Humidity\"]\n",
    "\n",
    "# Call the function.\n",
    "plot_linear_regression(x_values, y_values,\n",
    "                       'Linear Regression on the Northern Hemisphere \\\n",
    "                        for % Humidity', '% Humidity',(40,10))"
   ]
  },
  {
   "cell_type": "markdown",
   "metadata": {},
   "source": [
    "#### Perform Linear Regression on the Percentage Humidity for the Southern Hemisphere"
   ]
  },
  {
   "cell_type": "code",
   "execution_count": 55,
   "metadata": {},
   "outputs": [
    {
     "data": {
      "image/png": "[encoded data removed]",
      "text/plain": [
       "<Figure size 432x288 with 1 Axes>"
      ]
     },
     "metadata": {
      "needs_background": "light"
     },
     "output_type": "display_data"
    }
   ],
   "source": [
    "# Linear regression on the Southern Hemisphere\n",
    "x_values = southern_hemi_df[\"Lat\"]\n",
    "y_values = southern_hemi_df[\"Humidity\"]\n",
    "\n",
    "# Call the function.\n",
    "plot_linear_regression(x_values, y_values,\n",
    "                       'Linear Regression on the Southern Hemisphere \\\n",
    "                        for % Humidity', '% Humidity',(-50,15))"
   ]
  },
  {
   "cell_type": "markdown",
   "metadata": {},
   "source": [
    "### Find the Correlation Between Latitude and Percent Cloudiness"
   ]
  },
  {
   "cell_type": "markdown",
   "metadata": {},
   "source": [
    "#### Perform Linear Regression on Percentage of Cloudiness for the Northern Hemisphere"
   ]
  },
  {
   "cell_type": "code",
   "execution_count": 67,
   "metadata": {},
   "outputs": [
    {
     "data": {
      "image/png": "[encoded data removed]",
      "text/plain": [
       "<Figure size 432x288 with 1 Axes>"
      ]
     },
     "metadata": {
      "needs_background": "light"
     },
     "output_type": "display_data"
    }
   ],
   "source": [
    "# Linear regression on the Northern Hemisphere\n",
    "x_values = northern_hemi_df[\"Lat\"]\n",
    "y_values = northern_hemi_df[\"Cloudiness\"]\n",
    "\n",
    "# Call the function.\n",
    "plot_linear_regression(x_values, y_values,\n",
    "                       'Linear Regression on the Northern Hemisphere \\\n",
    "                        for % Cloudiness', '% Cloudiness',(40,10))"
   ]
  },
  {
   "cell_type": "markdown",
   "metadata": {},
   "source": [
    "#### Perform Linear Regression on Percentage of Cloudiness for the Southern Hemisphere"
   ]
  },
  {
   "cell_type": "code",
   "execution_count": 69,
   "metadata": {
    "scrolled": true
   },
   "outputs": [
    {
     "data": {
      "image/png": "[encoded data removed]",
      "text/plain": [
       "<Figure size 432x288 with 1 Axes>"
      ]
     },
     "metadata": {
      "needs_background": "light"
     },
     "output_type": "display_data"
    }
   ],
   "source": [
    "# Linear regression on the Southern Hemisphere\n",
    "x_values = southern_hemi_df[\"Lat\"]\n",
    "y_values = southern_hemi_df[\"Cloudiness\"]\n",
    "\n",
    "# Call the function.\n",
    "plot_linear_regression(x_values, y_values,\n",
    "                       'Linear Regression on the Southern Hemisphere \\\n",
    "                        for % Cloudiness', '% Cloudiness',(-50,60))"
   ]
  },
  {
   "cell_type": "markdown",
   "metadata": {},
   "source": [
    "### Find the Correlation Between Latitude and Wind Speed"
   ]
  },
  {
   "cell_type": "markdown",
   "metadata": {},
   "source": [
    "#### Perform Linear Regression on the Wind Speed for the Northern Hemisphere"
   ]
  },
  {
   "cell_type": "code",
   "execution_count": 73,
   "metadata": {},
   "outputs": [
    {
     "data": {
      "image/png": "[encoded data removed]",
      "text/plain": [
       "<Figure size 432x288 with 1 Axes>"
      ]
     },
     "metadata": {
      "needs_background": "light"
     },
     "output_type": "display_data"
    }
   ],
   "source": [
    "# Linear regression on the Northern Hemisphere\n",
    "x_values = northern_hemi_df[\"Lat\"]\n",
    "y_values = northern_hemi_df[\"Wind Speed\"]\n",
    "# Call the function.\n",
    "plot_linear_regression(x_values, y_values,\n",
    "                       'Linear Regression on the Northern Hemisphere \\\n",
    "                        for Wind Speed', 'Wind Speed',(40,35))"
   ]
  },
  {
   "cell_type": "markdown",
   "metadata": {},
   "source": [
    "### Perform Linear Regression on the Wind Speed for the Southern Hemisphere"
   ]
  },
  {
   "cell_type": "code",
   "execution_count": null,
   "metadata": {},
   "outputs": [],
   "source": [
    "# Linear regression on the Southern Hemisphere\n",
    "x_values = southern_hemi_df[\"Lat\"]\n",
    "y_values = southern_hemi_df[\"Wind Speed\"]\n",
    "# Call the function.\n",
    "plot_linear_regression(x_values, y_values,\n",
    "                       'Linear Regression on the Southern Hemisphere \\\n",
    "                        for Wind Speed', 'Wind Speed',(-50,35))\n"
   ]
  }
 ],
 "metadata": {
  "kernelspec": {
   "display_name": "PythonData",
   "language": "python",
   "name": "pythondata"
  },
  "language_info": {
   "codemirror_mode": {
    "name": "ipython",
    "version": 3
   },
   "file_extension": ".py",
   "mimetype": "text/x-python",
   "name": "python",
   "nbconvert_exporter": "python",
   "pygments_lexer": "ipython3",
   "version": "3.8.5"
  }
 },
 "nbformat": 4,
 "nbformat_minor": 4
}
